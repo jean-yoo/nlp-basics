{
  "nbformat": 4,
  "nbformat_minor": 0,
  "metadata": {
    "colab": {
      "name": "lstm-text-generation.ipynb",
      "provenance": [],
      "collapsed_sections": []
    },
    "kernelspec": {
      "name": "python3",
      "display_name": "Python 3"
    },
    "language_info": {
      "name": "python"
    },
    "accelerator": "GPU",
    "gpuClass": "standard"
  },
  "cells": [
    {
      "cell_type": "code",
      "execution_count": null,
      "metadata": {
        "id": "vsqhoxpBVMHW"
      },
      "outputs": [],
      "source": [
        "import tensorflow as tf\n",
        "\n",
        "import numpy as np\n",
        "import os\n",
        "import time"
      ]
    },
    {
      "cell_type": "code",
      "source": [
        "path_to_file = tf.keras.utils.get_file('shakespeare.txt', 'https://storage.googleapis.com/download.tensorflow.org/data/shakespeare.txt')"
      ],
      "metadata": {
        "colab": {
          "base_uri": "https://localhost:8080/"
        },
        "id": "5o5JqP39XBMF",
        "outputId": "9260d7a3-1524-49ae-af7d-caf3bf950eda"
      },
      "execution_count": null,
      "outputs": [
        {
          "output_type": "stream",
          "name": "stdout",
          "text": [
            "Downloading data from https://storage.googleapis.com/download.tensorflow.org/data/shakespeare.txt\n",
            "1122304/1115394 [==============================] - 0s 0us/step\n",
            "1130496/1115394 [==============================] - 0s 0us/step\n"
          ]
        }
      ]
    },
    {
      "cell_type": "code",
      "source": [
        "text = open(path_to_file, 'rb').read().decode(encoding = 'utf-8')\n",
        "# unique characters in the file \n",
        "vocab = sorted(set(text))"
      ],
      "metadata": {
        "id": "BOrHz_dZXItP"
      },
      "execution_count": null,
      "outputs": []
    },
    {
      "cell_type": "code",
      "source": [
        "# convert strings/tokens to a numeric ID \n",
        "# (we are creating a layer that translates a set of arbitrary strings into \n",
        "# integer output via a given vocabulary)\n",
        "ids_from_chars = tf.keras.layers.StringLookup(vocabulary = list(vocab), mask_token = None)\n",
        "# convert IDs back to characters.\n",
        "# (get_vocabulary returns the current layer's vocabulary; we use this instead of\n",
        "# the original vocab list so that UNK tokens are set correctly) \n",
        "chars_from_ids = tf.keras.layers.StringLookup(vocabulary=ids_from_chars.get_vocabulary(), invert=True, mask_token=None)\n",
        "# join characters from IDs \n",
        "def text_from_ids(ids):\n",
        "  return tf.strings.reduce_join(chars_from_ids(ids), axis=-1)"
      ],
      "metadata": {
        "id": "csHC5ZJ1XUjG"
      },
      "execution_count": null,
      "outputs": []
    },
    {
      "cell_type": "code",
      "source": [
        "# tokenize our text and get their IDs \n",
        "all_ids = ids_from_chars(tf.strings.unicode_split(text, 'UTF-8'))"
      ],
      "metadata": {
        "id": "0ku2n_XPZFEC"
      },
      "execution_count": null,
      "outputs": []
    },
    {
      "cell_type": "code",
      "source": [
        "# converts text vector into a stream of character indices \n",
        "ids_dataset = tf.data.Dataset.from_tensor_slices(all_ids)\n",
        "\n",
        "# convert individual characters to sequences of desired size\n",
        "seq_length = 100\n",
        "sequences = ids_dataset.batch(seq_length+1, drop_remainder = True)\n",
        "\n",
        "# function that splits input into (training, label) tuple where the label\n",
        "# is shifted one step over to the right \n",
        "def split_input_target(sequence):\n",
        "    input_text = sequence[:-1]\n",
        "    target_text = sequence[1:]\n",
        "    return input_text, target_text\n",
        "\n",
        "dataset = sequences.map(split_input_target)\n",
        "for input_example, target_example in dataset.take(1):\n",
        "    print(\"Input :\", text_from_ids(input_example).numpy())\n",
        "    print(\"Target:\", text_from_ids(target_example).numpy())"
      ],
      "metadata": {
        "colab": {
          "base_uri": "https://localhost:8080/"
        },
        "id": "QXoADIi2ZX6K",
        "outputId": "6bb708f3-2911-43bc-bd04-7cc0dc28e0f0"
      },
      "execution_count": null,
      "outputs": [
        {
          "output_type": "stream",
          "name": "stdout",
          "text": [
            "Input : b'First Citizen:\\nBefore we proceed any further, hear me speak.\\n\\nAll:\\nSpeak, speak.\\n\\nFirst Citizen:\\nYou'\n",
            "Target: b'irst Citizen:\\nBefore we proceed any further, hear me speak.\\n\\nAll:\\nSpeak, speak.\\n\\nFirst Citizen:\\nYou '\n"
          ]
        }
      ]
    },
    {
      "cell_type": "code",
      "source": [
        "# here, we shuffle the data and pack it into batches before feeding it\n",
        "# into the model\n",
        "\n",
        "# Batch size\n",
        "BATCH_SIZE = 64\n",
        "\n",
        "# Buffer size to shuffle the dataset\n",
        "# (TF data maintains a buffer in which it shuffles elements).\n",
        "BUFFER_SIZE = 10000\n",
        "\n",
        "dataset = (\n",
        "    dataset\n",
        "    .shuffle(BUFFER_SIZE)\n",
        "    .batch(BATCH_SIZE, drop_remainder=True)\n",
        "    .prefetch(tf.data.experimental.AUTOTUNE))"
      ],
      "metadata": {
        "id": "nYN_F5EuatyL"
      },
      "execution_count": null,
      "outputs": []
    },
    {
      "cell_type": "code",
      "source": [
        "def create_model(vocab_size, embed_dim, rnn_neurons, batch_size):\n",
        "  model = tf.keras.Sequential()\n",
        "  model.add(tf.keras.layers.Embedding(vocab_size, embed_dim,batch_input_shape=[batch_size, None]))\n",
        "  model.add(tf.keras.layers.LSTM(rnn_neurons,return_sequences=True,stateful=True,recurrent_initializer='glorot_uniform'))\n",
        "  # Final Dense Layer to Predict\n",
        "  model.add(tf.keras.layers.Dense(vocab_size))\n",
        "  loss = tf.losses.SparseCategoricalCrossentropy(from_logits = True)\n",
        "  model.compile(optimizer='adam', loss = loss) \n",
        "  return model"
      ],
      "metadata": {
        "id": "tvq3X1jfXJV6"
      },
      "execution_count": null,
      "outputs": []
    },
    {
      "cell_type": "code",
      "source": [
        "vocab_size = len(ids_from_chars.get_vocabulary())\n",
        "embedding_dim = 256\n",
        "lstm_units = 1024 #dimensionality output "
      ],
      "metadata": {
        "id": "y9AxFKFPXl_e"
      },
      "execution_count": null,
      "outputs": []
    },
    {
      "cell_type": "code",
      "source": [
        "model = create_model(\n",
        "    vocab_size = vocab_size,\n",
        "    embed_dim = embedding_dim,\n",
        "    rnn_neurons = lstm_units,\n",
        "    batch_size = BATCH_SIZE\n",
        ")"
      ],
      "metadata": {
        "id": "8ufaBlaKXtTo"
      },
      "execution_count": null,
      "outputs": []
    },
    {
      "cell_type": "code",
      "source": [
        "history = model.fit(dataset, epochs = 20)"
      ],
      "metadata": {
        "colab": {
          "base_uri": "https://localhost:8080/"
        },
        "id": "dYYI0r3KYMZw",
        "outputId": "c846903c-6a6e-4d2a-a07b-9392eb539ee7"
      },
      "execution_count": null,
      "outputs": [
        {
          "output_type": "stream",
          "name": "stdout",
          "text": [
            "Epoch 1/20\n",
            "172/172 [==============================] - 22s 64ms/step - loss: 2.6366\n",
            "Epoch 2/20\n",
            "172/172 [==============================] - 13s 64ms/step - loss: 1.9184\n",
            "Epoch 3/20\n",
            "172/172 [==============================] - 13s 64ms/step - loss: 1.6616\n",
            "Epoch 4/20\n",
            "172/172 [==============================] - 13s 65ms/step - loss: 1.5228\n",
            "Epoch 5/20\n",
            "172/172 [==============================] - 14s 64ms/step - loss: 1.4380\n",
            "Epoch 6/20\n",
            "172/172 [==============================] - 12s 63ms/step - loss: 1.3799\n",
            "Epoch 7/20\n",
            "172/172 [==============================] - 13s 66ms/step - loss: 1.3339\n",
            "Epoch 8/20\n",
            "172/172 [==============================] - 14s 67ms/step - loss: 1.2955\n",
            "Epoch 9/20\n",
            "172/172 [==============================] - 13s 68ms/step - loss: 1.2600\n",
            "Epoch 10/20\n",
            "172/172 [==============================] - 15s 67ms/step - loss: 1.2256\n",
            "Epoch 11/20\n",
            "172/172 [==============================] - 14s 66ms/step - loss: 1.1915\n",
            "Epoch 12/20\n",
            "172/172 [==============================] - 14s 67ms/step - loss: 1.1582\n",
            "Epoch 13/20\n",
            "172/172 [==============================] - 13s 67ms/step - loss: 1.1224\n",
            "Epoch 14/20\n",
            "172/172 [==============================] - 13s 66ms/step - loss: 1.0847\n",
            "Epoch 15/20\n",
            "172/172 [==============================] - 14s 69ms/step - loss: 1.0467\n",
            "Epoch 16/20\n",
            "172/172 [==============================] - 13s 66ms/step - loss: 1.0067\n",
            "Epoch 17/20\n",
            "172/172 [==============================] - 13s 66ms/step - loss: 0.9673\n",
            "Epoch 18/20\n",
            "172/172 [==============================] - 13s 67ms/step - loss: 0.9270\n",
            "Epoch 19/20\n",
            "172/172 [==============================] - 13s 66ms/step - loss: 0.8876\n",
            "Epoch 20/20\n",
            "172/172 [==============================] - 13s 67ms/step - loss: 0.8492\n"
          ]
        }
      ]
    },
    {
      "cell_type": "code",
      "source": [
        "model.save('shakespeare_gen.h5') \n",
        "\n",
        "model = create_model(vocab_size, embedding_dim, lstm_units, batch_size=1)\n",
        "model.load_weights('shakespeare_gen.h5')\n",
        "model.build(tf.TensorShape([1, None]))\n",
        "\n",
        "def generate_text(model, start_seed,gen_size=100,temp=1.0):\n",
        "  # Number of characters to generate\n",
        "  num_generate = gen_size\n",
        "  # Vecotrizing starting seed text\n",
        "  input_chars = tf.strings.unicode_split(start_seed, 'UTF-8')\n",
        "  input_eval = ids_from_chars(input_chars).to_tensor()\n",
        "  # Expand to match batch format shape\n",
        "  #input_eval = tf.expand_dims(input_eval, 0)\n",
        "  # Empty list to hold resulting generated text\n",
        "  text_generated = []\n",
        "  #text_generated.append(ids_from_chars(input_chars))\n",
        "  # Temperature effects randomness in our resulting text\n",
        "  # The term is derived from entropy/thermodynamics.\n",
        "  # The temperature is used to effect probability of next characters.\n",
        "  # Higher probability == lesss surprising/ more expected\n",
        "  # Lower temperature == more surprising / less expected\n",
        "  temperature = temp\n",
        "  # Here batch size == 1\n",
        "  model.reset_states()\n",
        "  for i in range(num_generate):\n",
        "    # Generate Predictions\n",
        "    predictions = model(input_eval)\n",
        "    # Remove the batch shape dimension\n",
        "    predictions = tf.squeeze(predictions, 0)\n",
        "    # Use a cateogircal disitribution to select the next character\n",
        "    predictions = predictions / temperature\n",
        "    predicted_id = tf.random.categorical(predictions, num_samples=1)[-1,0].numpy()\n",
        "    # Pass the predicted charracter for the next input\n",
        "    input_eval = tf.expand_dims([predicted_id], 0)\n",
        "    # Transform back to character letter\n",
        "    text_generated.append(predicted_id)\n",
        "  return(text_from_ids(text_generated).numpy().decode('utf-8'))"
      ],
      "metadata": {
        "id": "DkEgo7XdYV7v"
      },
      "execution_count": null,
      "outputs": []
    },
    {
      "cell_type": "code",
      "source": [
        "# testing\n",
        "print(generate_text(model,tf.constant(['Juliet:']),gen_size=1000))"
      ],
      "metadata": {
        "colab": {
          "base_uri": "https://localhost:8080/"
        },
        "id": "VQaxhrJiZkKz",
        "outputId": "9784f0a4-461e-4bbf-ac80-103a9cd85408"
      },
      "execution_count": null,
      "outputs": [
        {
          "output_type": "stream",
          "name": "stdout",
          "text": [
            "Juliet:\n",
            "But in your cries in 's fledier.\n",
            "\n",
            "GREOMANDER:\n",
            "Good faith, yet give you me a father, speak.\n",
            "\n",
            "LEONTES:\n",
            "Force her to be king'?\n",
            "\n",
            "SICINIUS:\n",
            "He that love me me, or else your highness sat's them?\n",
            "\n",
            "RAMNLIO:\n",
            "How! wear I mean i' the Duke of York?\n",
            "\n",
            "YORTHAM:\n",
            "What, masters, I do smile? 'twill be alliested\n",
            "Must ed the intemptual daggers. Farewell is guilty of heart\n",
            "Ago to our lord, 'tis now we meet him: let\n",
            "a puppet in blood and height wit,\n",
            "While I awhile with dight happy ripents. Once, or of our love?\n",
            "Alack, for me, I trust me, gentle lier.\n",
            "\n",
            "JULIET:\n",
            "I dare be infected\n",
            "This grief that seems unsatisfied! My words die,\n",
            "Rich me more stripps Provost.\n",
            "\n",
            "GRUMIO:\n",
            "Hark, in bawd; for powers to die.\n",
            "\n",
            "PERDIT:\n",
            "Therefore was it.\n",
            "\n",
            "RICHMOND:\n",
            "What must be back?\n",
            "\n",
            "Second Citizen:\n",
            "An ship in you: any thing, one gire;\n",
            "I'll to-day unbudge-by whipp'd the fre?\n",
            "What such the queen mean to lives unstanding innincess\n",
            "Made people and to issue out hath flower out me a present, as the drum,\n",
            "Are as so best becomes for; and, for \n"
          ]
        }
      ]
    }
  ]
}